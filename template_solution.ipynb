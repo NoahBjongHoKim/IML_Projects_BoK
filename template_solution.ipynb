{
  "cells": [
    {
      "cell_type": "markdown",
      "metadata": {
        "id": "view-in-github",
        "colab_type": "text"
      },
      "source": [
        "<a href=\"https://colab.research.google.com/github/NoahBjongHoKim/IML_Projects_BoK/blob/master/template_solution.ipynb\" target=\"_parent\"><img src=\"https://colab.research.google.com/assets/colab-badge.svg\" alt=\"Open In Colab\"/></a>"
      ]
    },
    {
      "cell_type": "markdown",
      "id": "f16163d2dd773fbc",
      "metadata": {
        "collapsed": false,
        "id": "f16163d2dd773fbc"
      },
      "source": [
        "# Task 3\n",
        "This serves as a template which will guide you through the implementation of this task. It is advised to first read the whole template and get a sense of the overall structure of the code before trying to fill in any of the TODO gaps.\n",
        "This is the jupyter notebook version of the template. For the python file version, please refer to the file `template_solution.py`."
      ]
    },
    {
      "cell_type": "code",
      "execution_count": null,
      "id": "bmILUEF_8qgd",
      "metadata": {
        "colab": {
          "base_uri": "https://localhost:8080/"
        },
        "id": "bmILUEF_8qgd",
        "outputId": "0d2bb548-b206-431f-8593-503535fd6fac"
      },
      "outputs": [
        {
          "name": "stdout",
          "output_type": "stream",
          "text": [
            "Mounted at /content/drive\n"
          ]
        }
      ],
      "source": [
        "from google.colab import drive\n",
        "drive.mount('/content/drive', force_remount=True)\n"
      ]
    },
    {
      "cell_type": "markdown",
      "id": "c95f1a3a9db8e3f9",
      "metadata": {
        "collapsed": false,
        "id": "c95f1a3a9db8e3f9"
      },
      "source": [
        "First, we import necessary libraries:\n",
        "\n",
        "just added whatever was needed, probably also stuff not needed anymore"
      ]
    },
    {
      "cell_type": "code",
      "execution_count": null,
      "id": "824a840beb8b323e",
      "metadata": {
        "id": "824a840beb8b323e"
      },
      "outputs": [],
      "source": [
        "import numpy as np\n",
        "from torchvision import transforms\n",
        "from torch.utils.data import DataLoader, TensorDataset\n",
        "import os\n",
        "import torch\n",
        "import torchvision\n",
        "from torchvision import transforms\n",
        "import torchvision.datasets as datasets\n",
        "import torch.nn as nn\n",
        "import torch.nn.functional as F\n",
        "from torchvision.io import read_image\n",
        "from torchvision.models import resnet50, ResNet50_Weights\n",
        "import torch.optim as optim\n",
        "# Add any other imports you need here"
      ]
    },
    {
      "cell_type": "code",
      "execution_count": null,
      "id": "82adb41ca8c23be6",
      "metadata": {
        "id": "82adb41ca8c23be6"
      },
      "outputs": [],
      "source": [
        "# The device is automatically set to GPU if available, otherwise CPU\n",
        "# If you want to force the device to CPU, you can change the line to\n",
        "# device = torch.device(\"cpu\")\n",
        "# When using the GPU, it is important that your model and all data are on the\n",
        "# same device.\n",
        "device = torch.device(\"cuda:0\" if torch.cuda.is_available() else \"cpu\")"
      ]
    },
    {
      "cell_type": "markdown",
      "id": "W_xA-Ns1NagQ",
      "metadata": {
        "id": "W_xA-Ns1NagQ"
      },
      "source": [
        "This class to get an embedding from the pretrained network and not a prediction"
      ]
    },
    {
      "cell_type": "code",
      "execution_count": null,
      "id": "7kZno_VQCnpQ",
      "metadata": {
        "id": "7kZno_VQCnpQ"
      },
      "outputs": [],
      "source": [
        "class NoFinalLayer(nn.Module):\n",
        "    def __init__(self, original_model):\n",
        "        super(NoFinalLayer, self).__init__()\n",
        "        self.features = nn.Sequential(*list(original_model.children())[:-1])\n",
        "\n",
        "    def forward(self, x):\n",
        "        x = self.features(x)\n",
        "        return x"
      ]
    },
    {
      "cell_type": "markdown",
      "id": "4qzzIBlXNsK_",
      "metadata": {
        "id": "4qzzIBlXNsK_"
      },
      "source": [
        "Reading all the stupid images and applying the pretrained network on them. Takes ages. Try to avoid."
      ]
    },
    {
      "cell_type": "code",
      "execution_count": null,
      "id": "6b3d5c760c9c963b",
      "metadata": {
        "id": "6b3d5c760c9c963b"
      },
      "outputs": [],
      "source": [
        "def generate_embeddings():\n",
        "    \"\"\"\n",
        "    Transform, resize and normalize the images and then use a pretrained model to extract\n",
        "    the embeddings.\n",
        "    \"\"\"\n",
        "    # TODO: define a transform to pre-process the images\n",
        "    # The required pre-processing depends on the pre-trained model you choose\n",
        "    # below.\n",
        "    # See https://pytorch.org/vision/stable/models.html#using-the-pre-trained-models\n",
        "\n",
        "    #Average image width: 453.9186\n",
        "    #Average image height: 306.4356\n",
        "    image_size = (224,224)\n",
        "    #mean per channel =  [tensor(0.6082), tensor(0.5158), tensor(0.4114)]\n",
        "    #std per channel =  [tensor(0.2222), tensor(0.2382), tensor(0.2561)]\n",
        "    mean_per_channel = (0.6082, 0.5158, 0.4114)\n",
        "    standard_deviation_per_channel_reciprocal = (0.2222, 0.2382, 0.2561)\n",
        "\n",
        "    train_transforms = transforms.Compose([\n",
        "                               transforms.Resize(image_size),\n",
        "                               transforms.CenterCrop(image_size),\n",
        "                               transforms.ToTensor(),\n",
        "                               transforms.Normalize(mean = mean_per_channel, std= standard_deviation_per_channel_reciprocal),\n",
        "                             ])\n",
        "\n",
        "    path = \"/content/drive/MyDrive/task3_full\"\n",
        "\n",
        "    train_dataset = datasets.ImageFolder(root=\"/content/drive/MyDrive/task3_full/dataset\", transform=train_transforms)\n",
        "    # Hint: adjust batch_size and num_workers to your PC configuration, so that you don't\n",
        "    # run out of memory (VRAM if on GPU, RAM if on CPU)\n",
        "\n",
        "    #we have to pass images of the same size to the DataLoader or it is unhappy (just like me)\n",
        "    train_loader = DataLoader(dataset=train_dataset,\n",
        "                              batch_size=64, #teiler von 10001 #maybe set to 32 if it does not work\n",
        "                              shuffle=False, #set this to true?\n",
        "                              pin_memory=True, num_workers=16, #and this to 8, google says 2 originally 16\n",
        "                              )\n",
        "\n",
        "    # TODO: define a model for extraction of the embeddings (Hint: load a pretrained model,\n",
        "    #  more info here: https://pytorch.org/vision/stable/models.html)\n",
        "    weights = ResNet50_Weights.DEFAULT\n",
        "    model_init = resnet50(weights=weights)\n",
        "    model = NoFinalLayer(model_init)\n",
        "    model.to(device)\n",
        "    embedding_size = 2048 #this works, I tried it\n",
        "\n",
        "    # TODO: pick your model\n",
        "    num_images = len(train_dataset)\n",
        "    print(num_images)\n",
        "    print(embedding_size)\n",
        "    embeddings_list = []\n",
        "    # TODO: Use the model to extract the embeddings. Hint: remove the last layers of the\n",
        "    # model to access the embeddings the model generates.\n",
        "\n",
        "    model.eval()  # Set the model to evaluation mode\n",
        "    number=0\n",
        "    with torch.no_grad():  # Disable gradient computation\n",
        "        for images, _ in train_loader:\n",
        "            #print(\"size :\", images.size(), \" type:\", images.type())\n",
        "            images = images.to(device)  # Move images to the device\n",
        "            # Forward pass through the model to get the output\n",
        "            number = number + 1\n",
        "            outputs = model(images) # Get both output and auxiliary output\n",
        "            # Extract embeddings from the output\n",
        "            embeddings_list.append(outputs.cpu().numpy().squeeze())   # Append embeddings to the list\n",
        "            print(\"Batch: \",number, \"/\",num_images/91)\n",
        "    embeddings_array = np.concatenate(embeddings_list, axis=0)\n",
        "    #embeddings_list = np.array(embeddings_list)\n",
        "    print(embeddings_array.shape)\n",
        "    assert(np.shape(embeddings_array) == (num_images, embedding_size))\n",
        "    np.save(\"/content/drive/MyDrive/task3_full/dataset/embeddings.npy\", embeddings_array)"
      ]
    },
    {
      "cell_type": "code",
      "execution_count": null,
      "id": "IsThyr1P_w5D",
      "metadata": {
        "colab": {
          "background_save": true,
          "base_uri": "https://localhost:8080/"
        },
        "id": "IsThyr1P_w5D",
        "outputId": "f86edfce-9771-49f7-8cb6-7c01db44b59b"
      },
      "outputs": [
        {
          "name": "stdout",
          "output_type": "stream",
          "text": [
            "cuda:0\n"
          ]
        },
        {
          "name": "stderr",
          "output_type": "stream",
          "text": [
            "/usr/local/lib/python3.10/dist-packages/torch/utils/data/dataloader.py:558: UserWarning: This DataLoader will create 16 worker processes in total. Our suggested max number of worker in current system is 8, which is smaller than what this DataLoader is going to create. Please be aware that excessive worker creation might get DataLoader running slow or even freeze, lower the worker number to avoid potential slowness/freeze if necessary.\n",
            "  warnings.warn(_create_warning_msg(\n",
            "Downloading: \"https://download.pytorch.org/models/resnet50-11ad3fa6.pth\" to /root/.cache/torch/hub/checkpoints/resnet50-11ad3fa6.pth\n",
            "100%|██████████| 97.8M/97.8M [00:00<00:00, 191MB/s]\n"
          ]
        },
        {
          "name": "stdout",
          "output_type": "stream",
          "text": [
            "10023\n",
            "2048\n"
          ]
        },
        {
          "name": "stderr",
          "output_type": "stream",
          "text": [
            "/usr/lib/python3.10/multiprocessing/popen_fork.py:66: RuntimeWarning: os.fork() was called. os.fork() is incompatible with multithreaded code, and JAX is multithreaded, so this will likely lead to a deadlock.\n",
            "  self.pid = os.fork()\n"
          ]
        }
      ],
      "source": [
        "print(device)\n",
        "generate_embeddings()\n"
      ]
    },
    {
      "cell_type": "code",
      "execution_count": null,
      "id": "335d91cc379d4f6b",
      "metadata": {
        "id": "335d91cc379d4f6b"
      },
      "outputs": [],
      "source": [
        "def get_data(file, train=True):\n",
        "    \"\"\"\n",
        "    Load the triplets from the file and generate the features and labels.\n",
        "\n",
        "    input: file: string, the path to the file containing the triplets\n",
        "          train: boolean, whether the data is for training or testing\n",
        "\n",
        "    output: X: numpy array, the features\n",
        "            y: numpy array, the labels\n",
        "    \"\"\"\n",
        "    triplets = []\n",
        "    with open(file) as f:\n",
        "        for line in f:\n",
        "            triplets.append(line)\n",
        "\n",
        "    # generate training data from triplets\n",
        "    train_dataset = datasets.ImageFolder(root=\"/content/drive/MyDrive/task3_full/dataset\",\n",
        "                                         transform=None)\n",
        "    filenames = [s[0].split('/')[-1].replace('.jpg', '') for s in train_dataset.samples]\n",
        "    embeddings = np.load('/content/drive/MyDrive/task3_full/dataset/embeddings.npy')\n",
        "    # TODO: Normalize the embeddings\n",
        "    #embeddings = torch.nn.functional.normalize(embeddings)\n",
        "\n",
        "    #Mean per channel: [161.6640330815327, 140.88972730355985, 111.99007629992748]\n",
        "    #Standard deviation per channel: [1/57.38794298481981, 1/62.1605772577997, 1/70.41062360670296]\n",
        "    #embeddings = torchvision.transforms.Normalize(embeddings, mean = [161.6640330815327, 140.88972730355985, 111.99007629992748],\n",
        "    #                                                         std = [57.38794298481981, 62.1605772577997, 70.41062360670296])\n",
        "    # Compute L2 normalization for embeddings\n",
        "    #print(embeddings)\n",
        "    norm = np.linalg.norm(embeddings, axis=1, keepdims=True)\n",
        "    embeddings_normalized = embeddings / norm\n",
        "    print(embeddings_normalized)\n",
        "    # Compute mean vector of the embeddings\n",
        "    mean_embedding = np.mean(embeddings_normalized, axis=0)\n",
        "\n",
        "    # Subtract the mean vector from each normalized embedding\n",
        "    embeddings_normalized_zero_mean = embeddings_normalized - mean_embedding\n",
        "    print(\"Mean:\", np.mean(embeddings_normalized_zero_mean, axis=0))\n",
        "    file_to_embedding = {}\n",
        "    for i in range(len(filenames)):\n",
        "        file_to_embedding[filenames[i]] = embeddings_normalized_zero_mean[i] #embeddings_normalized_zero_mean[i]\n",
        "    X = []\n",
        "    y = []\n",
        "    # use the individual embeddings to generate the features and labels for triplets\n",
        "    for t in triplets:\n",
        "        emb = [file_to_embedding[a] for a in t.split()]\n",
        "        X.append(np.hstack([emb[0], emb[1], emb[2]]))\n",
        "        y.append(1)\n",
        "        # Generating negative samples (data augmentation)\n",
        "        if train:\n",
        "            X.append(np.hstack([emb[0], emb[2], emb[1]]))\n",
        "            y.append(0)\n",
        "    X = np.vstack(X)\n",
        "    y = np.hstack(y)\n",
        "    return X, y"
      ]
    },
    {
      "cell_type": "code",
      "execution_count": null,
      "id": "8PG5b67roJTn",
      "metadata": {
        "id": "8PG5b67roJTn"
      },
      "outputs": [],
      "source": [
        "def get_data_triplet(file, train=True):\n",
        "    \"\"\"\n",
        "    Load the triplets from the file and generate the features and labels.\n",
        "\n",
        "    input: file: string, the path to the file containing the triplets\n",
        "          train: boolean, whether the data is for training or testing\n",
        "\n",
        "    output: X: numpy array, the features\n",
        "            y: numpy array, the labels\n",
        "    \"\"\"\n",
        "    triplets = []\n",
        "    with open(file) as f:\n",
        "        for line in f:\n",
        "            triplets.append(line)\n",
        "\n",
        "    # generate training data from triplets\n",
        "    train_dataset = datasets.ImageFolder(root=\"/content/drive/MyDrive/task3_full/dataset\",\n",
        "                                         transform=None)\n",
        "    filenames = [s[0].split('/')[-1].replace('.jpg', '') for s in train_dataset.samples]\n",
        "    embeddings = np.load('/content/drive/MyDrive/task3_full/dataset/embeddings.npy')\n",
        "    # TODO: Normalize the embeddings\n",
        "    #embeddings = torch.nn.functional.normalize(embeddings)\n",
        "\n",
        "    #Mean per channel: [161.6640330815327, 140.88972730355985, 111.99007629992748]\n",
        "    #Standard deviation per channel: [1/57.38794298481981, 1/62.1605772577997, 1/70.41062360670296]\n",
        "    #embeddings = torchvision.transforms.Normalize(embeddings, mean = [161.6640330815327, 140.88972730355985, 111.99007629992748],\n",
        "    #                                                         std = [57.38794298481981, 62.1605772577997, 70.41062360670296])\n",
        "    # Use numpy's L2 normalization\n",
        "    norm = np.linalg.norm(embeddings, axis=1, keepdims=True)\n",
        "    # Normalize embeddings\n",
        "    embeddings_normalized = embeddings / norm\n",
        "    file_to_embedding = {}\n",
        "    for i in range(len(filenames)):\n",
        "        file_to_embedding[filenames[i]] = embeddings_normalized[i]\n",
        "    X = []\n",
        "    y = []\n",
        "    # use the individual embeddings to generate the features and labels for triplets\n",
        "    for t in triplets:\n",
        "        emb = [file_to_embedding[a] for a in t.split()]\n",
        "        X.append(np.hstack([emb[0], emb[1], emb[2]]))\n",
        "        y.append(1)\n",
        "        # Generating negative samples (data augmentation)\n",
        "        #if train:\n",
        "        #    X.append(np.hstack([emb[0], emb[2], emb[1]]))\n",
        "        #    y.append(0)\n",
        "    X = np.vstack(X)\n",
        "    y = np.hstack(y)\n",
        "    return X, y"
      ]
    },
    {
      "cell_type": "markdown",
      "id": "2uv_S3nomRk4",
      "metadata": {
        "id": "2uv_S3nomRk4"
      },
      "source": [
        "We are given A, B, C\n",
        "A is the Anchor\n",
        "B is positive\n",
        "C is negative\n",
        "Then y = 1\n",
        "\n",
        "If we swap B, C (so A, C, B if original)\n",
        "A is the Anchor\n",
        "C is negative\n",
        "B is positive\n",
        "Then y = 0\n",
        "\n",
        "So given a triplet P1, P2, P3, label y+1 denotes the index of the negative (in embeddings)\n"
      ]
    },
    {
      "cell_type": "markdown",
      "id": "abc48f07a1c0c478",
      "metadata": {
        "collapsed": false,
        "id": "abc48f07a1c0c478"
      },
      "source": [
        "Hint: adjust batch_size and num_workers to your PC configuration, so that you don't run out of memory (VRAM if on GPU, RAM if on CPU)"
      ]
    },
    {
      "cell_type": "code",
      "execution_count": null,
      "id": "6daf836a4adb0abe",
      "metadata": {
        "id": "6daf836a4adb0abe"
      },
      "outputs": [],
      "source": [
        "def create_loader_from_np(X, y = None, train = True, batch_size=64, shuffle=True, num_workers = 4):\n",
        "    \"\"\"\n",
        "    Create a torch.utils.data.DataLoader object from numpy arrays containing the data.\n",
        "\n",
        "    input: X: numpy array, the features\n",
        "           y: numpy array, the labels\n",
        "\n",
        "    output: loader: torch.data.util.DataLoader, the object containing the data\n",
        "    \"\"\"\n",
        "    if train:\n",
        "        # Attention: If you get type errors you can modify the type of the\n",
        "        # labels here\n",
        "        dataset = TensorDataset(torch.from_numpy(X).type(torch.float),\n",
        "                                torch.from_numpy(y).type(torch.long))\n",
        "    else:\n",
        "        dataset = TensorDataset(torch.from_numpy(X).type(torch.float))\n",
        "    loader = DataLoader(dataset=dataset,\n",
        "                        batch_size=batch_size,\n",
        "                        shuffle=shuffle,\n",
        "                        pin_memory=True, num_workers=num_workers)\n",
        "    return loader"
      ]
    },
    {
      "cell_type": "markdown",
      "id": "e1baa5918f11a049",
      "metadata": {
        "collapsed": false,
        "id": "e1baa5918f11a049"
      },
      "source": [
        "TODO: define a model. Here, the basic structure is defined, but you need to fill in the details"
      ]
    },
    {
      "cell_type": "code",
      "execution_count": null,
      "id": "fcd11318eb7b9488",
      "metadata": {
        "id": "fcd11318eb7b9488"
      },
      "outputs": [],
      "source": [
        "import torch.nn.init as init\n",
        "class Net(nn.Module):\n",
        "    \"\"\"\n",
        "    The model class, which defines our classifier.\n",
        "    \"\"\"\n",
        "    def __init__(self):\n",
        "        \"\"\"\n",
        "        The constructor of the model.\n",
        "        \"\"\"\n",
        "        super().__init__()\n",
        "        self.fc1 = nn.Linear(3*2048, 2048)\n",
        "        self.fc2 = nn.Linear(2048, 128)\n",
        "        self.fc3 = nn.Linear(128, 1)\n",
        "\n",
        "        self.dropout = nn.Dropout(p=0.7)\n",
        "\n",
        "        # Print initial weights\n",
        "        print(\"Initial weights of the linear layer:\")\n",
        "        print(self.fc1.weight)\n",
        "        print(\"Initial bias of the linear layer:\")\n",
        "        print(self.fc1.bias)\n",
        "\n",
        "        # Initialize weights using Xavier initialization\n",
        "        init.xavier_uniform_(self.fc1.weight)\n",
        "        init.constant_(self.fc1.bias, 0)  # Initialize bias to zeros\n",
        "\n",
        "        # Print weights after initialization\n",
        "        print(\"Weights after Xavier initialization:\")\n",
        "        print(self.fc1.weight)\n",
        "        print(\"Bias after initialization:\")\n",
        "        print(self.fc1.bias)\n",
        "\n",
        "    def forward(self, x):\n",
        "        \"\"\"\n",
        "        The forward pass of the model.\n",
        "\n",
        "        input: x: torch.Tensor, the input to the model\n",
        "\n",
        "        output: x: torch.Tensor, the output of the model\n",
        "        \"\"\"\n",
        "\n",
        "        x = F.relu(self.fc1(x))\n",
        "        x = self.dropout(x)\n",
        "        x = F.relu(self.fc2(x))\n",
        "        x = self.dropout(x)\n",
        "        x = F.sigmoid(self.fc3(x))\n",
        "        return x\n"
      ]
    },
    {
      "cell_type": "code",
      "execution_count": null,
      "id": "6e1b0092e0b13f88",
      "metadata": {
        "id": "6e1b0092e0b13f88"
      },
      "outputs": [],
      "source": [
        "TRAIN_TRIPLETS = '/content/drive/MyDrive/task3_full/train_triplets.txt'\n",
        "\n",
        "# load the training data\n",
        "X, y = get_data(TRAIN_TRIPLETS)\n",
        "# Create data loaders for the training data\n",
        "#print(X)\n",
        "#print(y)\n",
        "train_loader = create_loader_from_np(X, y, train = True, batch_size=64)\n",
        "# delete the loaded training data to save memory, as the data loader copies\n",
        "del X\n",
        "del y"
      ]
    },
    {
      "cell_type": "code",
      "execution_count": null,
      "id": "c1suB9UG8oF9",
      "metadata": {
        "id": "c1suB9UG8oF9"
      },
      "outputs": [],
      "source": [
        "TEST_TRIPLETS = '/content/drive/MyDrive/task3_full/test_triplets.txt'\n",
        "\n",
        "# repeat for testing data\n",
        "X_test, y_test = get_data(TEST_TRIPLETS, train=False)\n",
        "test_loader = create_loader_from_np(X_test, train = False, batch_size=2048, shuffle=False)\n",
        "del X_test\n",
        "del y_test"
      ]
    },
    {
      "cell_type": "code",
      "execution_count": null,
      "id": "-Bj0l2VZ3vff",
      "metadata": {
        "id": "-Bj0l2VZ3vff"
      },
      "outputs": [],
      "source": [
        "def train_model(data_loader):\n",
        "    \"\"\"\n",
        "    The training procedure of the model; it accepts the training data, defines the model\n",
        "    and then trains it.\n",
        "\n",
        "    input: train_loader: torch.data.util.DataLoader, the object containing the training data\n",
        "\n",
        "    output: model: torch.nn.Module, the trained model\n",
        "    \"\"\"\n",
        "    model = Net()\n",
        "    model.train()\n",
        "    model.to(device)\n",
        "    n_epochs = 10\n",
        "    # TODO: define a loss function, optimizer and proceed with training. Hint: use the part\n",
        "    # of the training data as a validation split. After each epoch, compute the loss on the\n",
        "    # validation split and print it out. This enables you to see how your model is performing\n",
        "    # on the validation data before submitting the results on the server. After choosing the\n",
        "    # best model, train it on the whole training data.\n",
        "\n",
        "    criterion = nn.BCELoss()  # Define your loss function here\n",
        "    optimizer = optim.Adam(model.parameters(), lr=0.005, weight_decay=0.001)  # Define your optimizer\n",
        "    #best_model =  Net()\n",
        "\n",
        "\n",
        "    for epoch in range(n_epochs):\n",
        "        running_loss = 0.0\n",
        "        acc= 0.0\n",
        "        count= 0.0\n",
        "        #define validation subset\n",
        "        #validation =\n",
        "\n",
        "\n",
        "        for i, data in enumerate(train_loader, 0):\n",
        "            #print(\"i: \", i, \" Data: \", data, \"\\n\")\n",
        "\n",
        "              inputs, labels = data[0].to(device), data[1].to(device)\n",
        "              labels = labels.type(torch.float)\n",
        "              #print(\"Inputs:\", inputs, \"Labels:\", labels, \"\\n\")\n",
        "              optimizer.zero_grad()\n",
        "              outputs = model(inputs)\n",
        "              #print(\"Outputs:\", outputs.squeeze(), \"Labels:\", labels, \"\\n\")\n",
        "              loss = criterion(outputs.squeeze(), labels)\n",
        "\n",
        "              loss.backward()\n",
        "              optimizer.step()\n",
        "\n",
        "              outputs[outputs >= 0.5] = 1\n",
        "              outputs[outputs < 0.5] = 0\n",
        "              predicted = outputs\n",
        "\n",
        "              # Compute accuracy\n",
        "              acc += (predicted == labels).sum().item()/64\n",
        "              count += len(labels)\n",
        "\n",
        "              running_loss += loss.item()\n",
        "              if i % 200 == 199:  # Print every 20 mini-batches\n",
        "                  #for name, param in model.named_parameters():\n",
        "                  #  print(name, param)\n",
        "                  print(predicted.sum())\n",
        "                  accper = acc/count\n",
        "                  print('[%d, %5d] loss: %.3f acc: %.3f' %\n",
        "                        (epoch + 1, i + 1, running_loss / 200, accper))\n",
        "                  running_loss = 0.0\n",
        "              # Get predicted classes as the entry with the highest probability\n",
        "\n",
        "          #score_validation = validation_acc(validation, model(validation))\n",
        "          #print(\"Epoch :\" epoch, \"Score: \", score_validation, \"\\n\")\n",
        "\n",
        "\n",
        "    print('Finished Training')\n",
        "    return model"
      ]
    },
    {
      "cell_type": "code",
      "execution_count": null,
      "id": "40E4Pc1iOHvN",
      "metadata": {
        "id": "40E4Pc1iOHvN"
      },
      "outputs": [],
      "source": [
        "model=train_model(train_loader)"
      ]
    },
    {
      "cell_type": "code",
      "execution_count": null,
      "id": "b2ea99b26c348253",
      "metadata": {
        "id": "b2ea99b26c348253"
      },
      "outputs": [],
      "source": [
        "def test_model(model, loader):\n",
        "    \"\"\"\n",
        "    The testing procedure of the model; it accepts the testing data and the trained model and\n",
        "    then tests the model on it.\n",
        "\n",
        "    input: model: torch.nn.Module, the trained model\n",
        "           loader: torch.data.util.DataLoader, the object containing the testing data\n",
        "\n",
        "    output: None, the function saves the predictions to a results.txt file\n",
        "    \"\"\"\n",
        "    model.eval()\n",
        "    predictions = []\n",
        "    # Iterate over the test data\n",
        "    with torch.no_grad(): # We don't need to compute gradients for testing\n",
        "        for [x_batch] in loader:\n",
        "            x_batch= x_batch.to(device)\n",
        "            predicted = model(x_batch)\n",
        "            predicted = predicted.cpu().numpy()\n",
        "            # Rounding the predictions to 0 or 1\n",
        "            predicted[predicted >= 0.5] = 1\n",
        "            predicted[predicted < 0.5] = 0\n",
        "            #predicted = [i >= 0.5 for i in predicted]\n",
        "            predictions.append(predicted)\n",
        "        predictions = np.vstack(predictions)\n",
        "    np.savetxt(\"/content/drive/MyDrive/task3_full/results.txt\", predictions, fmt='%i')\n",
        "    return predictions"
      ]
    },
    {
      "cell_type": "code",
      "execution_count": null,
      "id": "1U5OWSiJOfx2",
      "metadata": {
        "id": "1U5OWSiJOfx2"
      },
      "outputs": [],
      "source": [
        "test_model(model, test_loader)"
      ]
    }
  ],
  "metadata": {
    "accelerator": "GPU",
    "colab": {
      "gpuType": "T4",
      "machine_shape": "hm",
      "provenance": [],
      "include_colab_link": true
    },
    "kernelspec": {
      "display_name": "Python 3",
      "name": "python3"
    },
    "language_info": {
      "codemirror_mode": {
        "name": "ipython",
        "version": 2
      },
      "file_extension": ".py",
      "mimetype": "text/x-python",
      "name": "python",
      "nbconvert_exporter": "python",
      "pygments_lexer": "ipython2",
      "version": "2.7.6"
    }
  },
  "nbformat": 4,
  "nbformat_minor": 5
}