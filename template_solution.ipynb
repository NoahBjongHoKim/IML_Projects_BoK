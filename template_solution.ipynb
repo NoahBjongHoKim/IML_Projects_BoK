{
  "cells": [
    {
      "cell_type": "markdown",
      "metadata": {
        "id": "view-in-github",
        "colab_type": "text"
      },
      "source": [
        "<a href=\"https://colab.research.google.com/github/NoahBjongHoKim/IML_Projects_BoK/blob/Sara/template_solution.ipynb\" target=\"_parent\"><img src=\"https://colab.research.google.com/assets/colab-badge.svg\" alt=\"Open In Colab\"/></a>"
      ]
    },
    {
      "cell_type": "markdown",
      "id": "f16163d2dd773fbc",
      "metadata": {
        "collapsed": false,
        "id": "f16163d2dd773fbc"
      },
      "source": [
        "# Task 3\n",
        "This serves as a template which will guide you through the implementation of this task. It is advised to first read the whole template and get a sense of the overall structure of the code before trying to fill in any of the TODO gaps.\n",
        "This is the jupyter notebook version of the template. For the python file version, please refer to the file `template_solution.py`."
      ]
    },
    {
      "cell_type": "code",
      "source": [
        "from google.colab import drive\n",
        "drive.mount('/content/drive', force_remount=True)\n"
      ],
      "metadata": {
        "colab": {
          "base_uri": "https://localhost:8080/"
        },
        "id": "bmILUEF_8qgd",
        "outputId": "dd9645fa-a7a9-4edf-dd3b-cb7993a239b2"
      },
      "id": "bmILUEF_8qgd",
      "execution_count": 12,
      "outputs": [
        {
          "output_type": "stream",
          "name": "stdout",
          "text": [
            "Mounted at /content/drive\n"
          ]
        }
      ]
    },
    {
      "cell_type": "markdown",
      "id": "c95f1a3a9db8e3f9",
      "metadata": {
        "collapsed": false,
        "id": "c95f1a3a9db8e3f9"
      },
      "source": [
        "First, we import necessary libraries:"
      ]
    },
    {
      "cell_type": "code",
      "execution_count": 14,
      "id": "824a840beb8b323e",
      "metadata": {
        "id": "824a840beb8b323e"
      },
      "outputs": [],
      "source": [
        "import numpy as np\n",
        "from torchvision import transforms\n",
        "from torch.utils.data import DataLoader, TensorDataset\n",
        "import os\n",
        "import torch\n",
        "from torchvision import transforms\n",
        "import torchvision.datasets as datasets\n",
        "import torch.nn as nn\n",
        "import torch.nn.functional as F\n",
        "# Add any other imports you need here"
      ]
    },
    {
      "cell_type": "code",
      "execution_count": 15,
      "id": "82adb41ca8c23be6",
      "metadata": {
        "id": "82adb41ca8c23be6"
      },
      "outputs": [],
      "source": [
        "# The device is automatically set to GPU if available, otherwise CPU\n",
        "# If you want to force the device to CPU, you can change the line to\n",
        "# device = torch.device(\"cpu\")\n",
        "# When using the GPU, it is important that your model and all data are on the\n",
        "# same device.\n",
        "device = torch.device(\"cuda:0\" if torch.cuda.is_available() else \"cpu\")"
      ]
    },
    {
      "cell_type": "code",
      "execution_count": 20,
      "id": "6b3d5c760c9c963b",
      "metadata": {
        "id": "6b3d5c760c9c963b"
      },
      "outputs": [],
      "source": [
        "def generate_embeddings():\n",
        "    \"\"\"\n",
        "    Transform, resize and normalize the images and then use a pretrained model to extract\n",
        "    the embeddings.\n",
        "    \"\"\"\n",
        "    # TODO: define a transform to pre-process the images\n",
        "    # The required pre-processing depends on the pre-trained model you choose\n",
        "    # below.\n",
        "    # See https://pytorch.org/vision/stable/models.html#using-the-pre-trained-models\n",
        "\n",
        "    #Average image width: 453.9186\n",
        "    #Average image height: 306.4356\n",
        "    image_size = (306,454)\n",
        "\n",
        "    train_transforms = transforms.Compose([\n",
        "                               transforms.Resize(image_size),\n",
        "                               transforms.CenterCrop(image_size),\n",
        "                               transforms.ToTensor(),\n",
        "                               transforms.Normalize((0.5,), (0.5,)),\n",
        "                             ])\n",
        "\n",
        "    path = \"/content/drive/MyDrive/task3_full\"\n",
        "\n",
        "    train_dataset = datasets.ImageFolder(root=path+\"dataset/\", transform=train_transforms)\n",
        "    # Hint: adjust batch_size and num_workers to your PC configuration, so that you don't\n",
        "    # run out of memory (VRAM if on GPU, RAM if on CPU)\n",
        "\n",
        "    #we have to pass images of the same size to the DataLoader or it is unhappy (just like me)\n",
        "    train_loader = DataLoader(dataset=train_dataset,\n",
        "                              batch_size=32, #maybe set to 32 if it does not work\n",
        "                              shuffle=False, #set this to true?\n",
        "                              pin_memory=True, num_workers=4, #and this to 8\n",
        "                                )\n",
        "\n",
        "    # TODO: define a model for extraction of the embeddings (Hint: load a pretrained model,\n",
        "    #  more info here: https://pytorch.org/vision/stable/models.html)\n",
        "    weights = ResNet50_Weights.DEFAULT\n",
        "    model_init = resnet50(weights=weights)\n",
        "    model = NoFinalLayer(model_init)\n",
        "    model.to(device)\n",
        "    embedding_size = 1000 #this works, I tried it\n",
        "\n",
        "    # TODO: pick your model\n",
        "    num_images = len(train_dataset)\n",
        "\n",
        "    embeddings_list = []\n",
        "    # TODO: Use the model to extract the embeddings. Hint: remove the last layers of the\n",
        "    # model to access the embeddings the model generates.\n",
        "\n",
        "    model.eval()  # Set the model to evaluation mode\n",
        "\n",
        "    with torch.no_grad():  # Disable gradient computation\n",
        "        for images, _ in train_loader:\n",
        "            #print(\"size :\", images.size(), \" type:\", images.type())\n",
        "            images = images.to(device)  # Move images to the device\n",
        "            # Forward pass through the model to get the output\n",
        "\n",
        "            outputs = model(images) # Get both output and auxiliary output\n",
        "            # Extract embeddings from the output\n",
        "            embeddings_list.append(outputs.cpu().numpy())  # Append embeddings to the list\n",
        "            print(np.shape(embeddings_list))\n",
        "\n",
        "    embeddings_list = np.array(embeddings_list)\n",
        "    #print(np.shape(embeddings_list))\n",
        "    #assert(np.shape(embeddings_list) == (num_images, embedding_size))\n",
        "    np.save(path+'dataset/embeddings.npy', embeddings_list)"
      ]
    },
    {
      "cell_type": "code",
      "source": [
        "generate_embeddings()"
      ],
      "metadata": {
        "colab": {
          "base_uri": "https://localhost:8080/",
          "height": 282
        },
        "id": "IsThyr1P_w5D",
        "outputId": "c1dd5b8f-0539-4fa9-a07e-4e7e351ba4bd"
      },
      "id": "IsThyr1P_w5D",
      "execution_count": 21,
      "outputs": [
        {
          "output_type": "error",
          "ename": "FileNotFoundError",
          "evalue": "[Errno 2] No such file or directory: '/content/drive/MyDrive/task3_fulldataset/'",
          "traceback": [
            "\u001b[0;31m---------------------------------------------------------------------------\u001b[0m",
            "\u001b[0;31mFileNotFoundError\u001b[0m                         Traceback (most recent call last)",
            "\u001b[0;32m<ipython-input-21-3c8174f82772>\u001b[0m in \u001b[0;36m<cell line: 1>\u001b[0;34m()\u001b[0m\n\u001b[0;32m----> 1\u001b[0;31m \u001b[0mgenerate_embeddings\u001b[0m\u001b[0;34m(\u001b[0m\u001b[0;34m)\u001b[0m\u001b[0;34m\u001b[0m\u001b[0;34m\u001b[0m\u001b[0m\n\u001b[0m",
            "\u001b[0;32m<ipython-input-20-d8b8679a83f8>\u001b[0m in \u001b[0;36mgenerate_embeddings\u001b[0;34m()\u001b[0m\n\u001b[1;32m     22\u001b[0m     \u001b[0mpath\u001b[0m \u001b[0;34m=\u001b[0m \u001b[0;34m\"/content/drive/MyDrive/task3_full\"\u001b[0m\u001b[0;34m\u001b[0m\u001b[0;34m\u001b[0m\u001b[0m\n\u001b[1;32m     23\u001b[0m \u001b[0;34m\u001b[0m\u001b[0m\n\u001b[0;32m---> 24\u001b[0;31m     \u001b[0mtrain_dataset\u001b[0m \u001b[0;34m=\u001b[0m \u001b[0mdatasets\u001b[0m\u001b[0;34m.\u001b[0m\u001b[0mImageFolder\u001b[0m\u001b[0;34m(\u001b[0m\u001b[0mroot\u001b[0m\u001b[0;34m=\u001b[0m\u001b[0mpath\u001b[0m\u001b[0;34m+\u001b[0m\u001b[0;34m\"dataset/\"\u001b[0m\u001b[0;34m,\u001b[0m \u001b[0mtransform\u001b[0m\u001b[0;34m=\u001b[0m\u001b[0mtrain_transforms\u001b[0m\u001b[0;34m)\u001b[0m\u001b[0;34m\u001b[0m\u001b[0;34m\u001b[0m\u001b[0m\n\u001b[0m\u001b[1;32m     25\u001b[0m     \u001b[0;31m# Hint: adjust batch_size and num_workers to your PC configuration, so that you don't\u001b[0m\u001b[0;34m\u001b[0m\u001b[0;34m\u001b[0m\u001b[0m\n\u001b[1;32m     26\u001b[0m     \u001b[0;31m# run out of memory (VRAM if on GPU, RAM if on CPU)\u001b[0m\u001b[0;34m\u001b[0m\u001b[0;34m\u001b[0m\u001b[0m\n",
            "\u001b[0;32m/usr/local/lib/python3.10/dist-packages/torchvision/datasets/folder.py\u001b[0m in \u001b[0;36m__init__\u001b[0;34m(self, root, transform, target_transform, loader, is_valid_file)\u001b[0m\n\u001b[1;32m    307\u001b[0m         \u001b[0mis_valid_file\u001b[0m\u001b[0;34m:\u001b[0m \u001b[0mOptional\u001b[0m\u001b[0;34m[\u001b[0m\u001b[0mCallable\u001b[0m\u001b[0;34m[\u001b[0m\u001b[0;34m[\u001b[0m\u001b[0mstr\u001b[0m\u001b[0;34m]\u001b[0m\u001b[0;34m,\u001b[0m \u001b[0mbool\u001b[0m\u001b[0;34m]\u001b[0m\u001b[0;34m]\u001b[0m \u001b[0;34m=\u001b[0m \u001b[0;32mNone\u001b[0m\u001b[0;34m,\u001b[0m\u001b[0;34m\u001b[0m\u001b[0;34m\u001b[0m\u001b[0m\n\u001b[1;32m    308\u001b[0m     ):\n\u001b[0;32m--> 309\u001b[0;31m         super().__init__(\n\u001b[0m\u001b[1;32m    310\u001b[0m             \u001b[0mroot\u001b[0m\u001b[0;34m,\u001b[0m\u001b[0;34m\u001b[0m\u001b[0;34m\u001b[0m\u001b[0m\n\u001b[1;32m    311\u001b[0m             \u001b[0mloader\u001b[0m\u001b[0;34m,\u001b[0m\u001b[0;34m\u001b[0m\u001b[0;34m\u001b[0m\u001b[0m\n",
            "\u001b[0;32m/usr/local/lib/python3.10/dist-packages/torchvision/datasets/folder.py\u001b[0m in \u001b[0;36m__init__\u001b[0;34m(self, root, loader, extensions, transform, target_transform, is_valid_file)\u001b[0m\n\u001b[1;32m    142\u001b[0m     ) -> None:\n\u001b[1;32m    143\u001b[0m         \u001b[0msuper\u001b[0m\u001b[0;34m(\u001b[0m\u001b[0;34m)\u001b[0m\u001b[0;34m.\u001b[0m\u001b[0m__init__\u001b[0m\u001b[0;34m(\u001b[0m\u001b[0mroot\u001b[0m\u001b[0;34m,\u001b[0m \u001b[0mtransform\u001b[0m\u001b[0;34m=\u001b[0m\u001b[0mtransform\u001b[0m\u001b[0;34m,\u001b[0m \u001b[0mtarget_transform\u001b[0m\u001b[0;34m=\u001b[0m\u001b[0mtarget_transform\u001b[0m\u001b[0;34m)\u001b[0m\u001b[0;34m\u001b[0m\u001b[0;34m\u001b[0m\u001b[0m\n\u001b[0;32m--> 144\u001b[0;31m         \u001b[0mclasses\u001b[0m\u001b[0;34m,\u001b[0m \u001b[0mclass_to_idx\u001b[0m \u001b[0;34m=\u001b[0m \u001b[0mself\u001b[0m\u001b[0;34m.\u001b[0m\u001b[0mfind_classes\u001b[0m\u001b[0;34m(\u001b[0m\u001b[0mself\u001b[0m\u001b[0;34m.\u001b[0m\u001b[0mroot\u001b[0m\u001b[0;34m)\u001b[0m\u001b[0;34m\u001b[0m\u001b[0;34m\u001b[0m\u001b[0m\n\u001b[0m\u001b[1;32m    145\u001b[0m         \u001b[0msamples\u001b[0m \u001b[0;34m=\u001b[0m \u001b[0mself\u001b[0m\u001b[0;34m.\u001b[0m\u001b[0mmake_dataset\u001b[0m\u001b[0;34m(\u001b[0m\u001b[0mself\u001b[0m\u001b[0;34m.\u001b[0m\u001b[0mroot\u001b[0m\u001b[0;34m,\u001b[0m \u001b[0mclass_to_idx\u001b[0m\u001b[0;34m,\u001b[0m \u001b[0mextensions\u001b[0m\u001b[0;34m,\u001b[0m \u001b[0mis_valid_file\u001b[0m\u001b[0;34m)\u001b[0m\u001b[0;34m\u001b[0m\u001b[0;34m\u001b[0m\u001b[0m\n\u001b[1;32m    146\u001b[0m \u001b[0;34m\u001b[0m\u001b[0m\n",
            "\u001b[0;32m/usr/local/lib/python3.10/dist-packages/torchvision/datasets/folder.py\u001b[0m in \u001b[0;36mfind_classes\u001b[0;34m(self, directory)\u001b[0m\n\u001b[1;32m    216\u001b[0m             \u001b[0;34m(\u001b[0m\u001b[0mTuple\u001b[0m\u001b[0;34m[\u001b[0m\u001b[0mList\u001b[0m\u001b[0;34m[\u001b[0m\u001b[0mstr\u001b[0m\u001b[0;34m]\u001b[0m\u001b[0;34m,\u001b[0m \u001b[0mDict\u001b[0m\u001b[0;34m[\u001b[0m\u001b[0mstr\u001b[0m\u001b[0;34m,\u001b[0m \u001b[0mint\u001b[0m\u001b[0;34m]\u001b[0m\u001b[0;34m]\u001b[0m\u001b[0;34m)\u001b[0m\u001b[0;34m:\u001b[0m \u001b[0mList\u001b[0m \u001b[0mof\u001b[0m \u001b[0mall\u001b[0m \u001b[0mclasses\u001b[0m \u001b[0;32mand\u001b[0m \u001b[0mdictionary\u001b[0m \u001b[0mmapping\u001b[0m \u001b[0meach\u001b[0m \u001b[0;32mclass\u001b[0m \u001b[0mto\u001b[0m \u001b[0man\u001b[0m \u001b[0mindex\u001b[0m\u001b[0;34m.\u001b[0m\u001b[0;34m\u001b[0m\u001b[0;34m\u001b[0m\u001b[0m\n\u001b[1;32m    217\u001b[0m         \"\"\"\n\u001b[0;32m--> 218\u001b[0;31m         \u001b[0;32mreturn\u001b[0m \u001b[0mfind_classes\u001b[0m\u001b[0;34m(\u001b[0m\u001b[0mdirectory\u001b[0m\u001b[0;34m)\u001b[0m\u001b[0;34m\u001b[0m\u001b[0;34m\u001b[0m\u001b[0m\n\u001b[0m\u001b[1;32m    219\u001b[0m \u001b[0;34m\u001b[0m\u001b[0m\n\u001b[1;32m    220\u001b[0m     \u001b[0;32mdef\u001b[0m \u001b[0m__getitem__\u001b[0m\u001b[0;34m(\u001b[0m\u001b[0mself\u001b[0m\u001b[0;34m,\u001b[0m \u001b[0mindex\u001b[0m\u001b[0;34m:\u001b[0m \u001b[0mint\u001b[0m\u001b[0;34m)\u001b[0m \u001b[0;34m->\u001b[0m \u001b[0mTuple\u001b[0m\u001b[0;34m[\u001b[0m\u001b[0mAny\u001b[0m\u001b[0;34m,\u001b[0m \u001b[0mAny\u001b[0m\u001b[0;34m]\u001b[0m\u001b[0;34m:\u001b[0m\u001b[0;34m\u001b[0m\u001b[0;34m\u001b[0m\u001b[0m\n",
            "\u001b[0;32m/usr/local/lib/python3.10/dist-packages/torchvision/datasets/folder.py\u001b[0m in \u001b[0;36mfind_classes\u001b[0;34m(directory)\u001b[0m\n\u001b[1;32m     38\u001b[0m     \u001b[0mSee\u001b[0m \u001b[0;34m:\u001b[0m\u001b[0;32mclass\u001b[0m\u001b[0;34m:\u001b[0m\u001b[0;31m`\u001b[0m\u001b[0mDatasetFolder\u001b[0m\u001b[0;31m`\u001b[0m \u001b[0;32mfor\u001b[0m \u001b[0mdetails\u001b[0m\u001b[0;34m.\u001b[0m\u001b[0;34m\u001b[0m\u001b[0;34m\u001b[0m\u001b[0m\n\u001b[1;32m     39\u001b[0m     \"\"\"\n\u001b[0;32m---> 40\u001b[0;31m     \u001b[0mclasses\u001b[0m \u001b[0;34m=\u001b[0m \u001b[0msorted\u001b[0m\u001b[0;34m(\u001b[0m\u001b[0mentry\u001b[0m\u001b[0;34m.\u001b[0m\u001b[0mname\u001b[0m \u001b[0;32mfor\u001b[0m \u001b[0mentry\u001b[0m \u001b[0;32min\u001b[0m \u001b[0mos\u001b[0m\u001b[0;34m.\u001b[0m\u001b[0mscandir\u001b[0m\u001b[0;34m(\u001b[0m\u001b[0mdirectory\u001b[0m\u001b[0;34m)\u001b[0m \u001b[0;32mif\u001b[0m \u001b[0mentry\u001b[0m\u001b[0;34m.\u001b[0m\u001b[0mis_dir\u001b[0m\u001b[0;34m(\u001b[0m\u001b[0;34m)\u001b[0m\u001b[0;34m)\u001b[0m\u001b[0;34m\u001b[0m\u001b[0;34m\u001b[0m\u001b[0m\n\u001b[0m\u001b[1;32m     41\u001b[0m     \u001b[0;32mif\u001b[0m \u001b[0;32mnot\u001b[0m \u001b[0mclasses\u001b[0m\u001b[0;34m:\u001b[0m\u001b[0;34m\u001b[0m\u001b[0;34m\u001b[0m\u001b[0m\n\u001b[1;32m     42\u001b[0m         \u001b[0;32mraise\u001b[0m \u001b[0mFileNotFoundError\u001b[0m\u001b[0;34m(\u001b[0m\u001b[0;34mf\"Couldn't find any class folder in {directory}.\"\u001b[0m\u001b[0;34m)\u001b[0m\u001b[0;34m\u001b[0m\u001b[0;34m\u001b[0m\u001b[0m\n",
            "\u001b[0;31mFileNotFoundError\u001b[0m: [Errno 2] No such file or directory: '/content/drive/MyDrive/task3_fulldataset/'"
          ]
        }
      ]
    },
    {
      "cell_type": "code",
      "execution_count": null,
      "id": "335d91cc379d4f6b",
      "metadata": {
        "id": "335d91cc379d4f6b"
      },
      "outputs": [],
      "source": [
        "def get_data(file, train=True):\n",
        "    \"\"\"\n",
        "    Load the triplets from the file and generate the features and labels.\n",
        "\n",
        "    input: file: string, the path to the file containing the triplets\n",
        "          train: boolean, whether the data is for training or testing\n",
        "\n",
        "    output: X: numpy array, the features\n",
        "            y: numpy array, the labels\n",
        "    \"\"\"\n",
        "    triplets = []\n",
        "    with open(file) as f:\n",
        "        for line in f:\n",
        "            triplets.append(line)\n",
        "\n",
        "    # generate training data from triplets\n",
        "    train_dataset = datasets.ImageFolder(root=\"dataset/\",\n",
        "                                         transform=None)\n",
        "    filenames = [s[0].split('/')[-1].replace('.jpg', '') for s in train_dataset.samples]\n",
        "    embeddings = np.load('dataset/embeddings.npy')\n",
        "    # TODO: Normalize the embeddings\n",
        "\n",
        "    file_to_embedding = {}\n",
        "    for i in range(len(filenames)):\n",
        "        file_to_embedding[filenames[i]] = embeddings[i]\n",
        "    X = []\n",
        "    y = []\n",
        "    # use the individual embeddings to generate the features and labels for triplets\n",
        "    for t in triplets:\n",
        "        emb = [file_to_embedding[a] for a in t.split()]\n",
        "        X.append(np.hstack([emb[0], emb[1], emb[2]]))\n",
        "        y.append(1)\n",
        "        # Generating negative samples (data augmentation)\n",
        "        if train:\n",
        "            X.append(np.hstack([emb[0], emb[2], emb[1]]))\n",
        "            y.append(0)\n",
        "    X = np.vstack(X)\n",
        "    y = np.hstack(y)\n",
        "    return X, y"
      ]
    },
    {
      "cell_type": "markdown",
      "id": "abc48f07a1c0c478",
      "metadata": {
        "collapsed": false,
        "id": "abc48f07a1c0c478"
      },
      "source": [
        "Hint: adjust batch_size and num_workers to your PC configuration, so that you don't run out of memory (VRAM if on GPU, RAM if on CPU)"
      ]
    },
    {
      "cell_type": "code",
      "execution_count": null,
      "id": "6daf836a4adb0abe",
      "metadata": {
        "id": "6daf836a4adb0abe"
      },
      "outputs": [],
      "source": [
        "def create_loader_from_np(X, y = None, train = True, batch_size=64, shuffle=True, num_workers = 4):\n",
        "    \"\"\"\n",
        "    Create a torch.utils.data.DataLoader object from numpy arrays containing the data.\n",
        "\n",
        "    input: X: numpy array, the features\n",
        "           y: numpy array, the labels\n",
        "\n",
        "    output: loader: torch.data.util.DataLoader, the object containing the data\n",
        "    \"\"\"\n",
        "    if train:\n",
        "        # Attention: If you get type errors you can modify the type of the\n",
        "        # labels here\n",
        "        dataset = TensorDataset(torch.from_numpy(X).type(torch.float),\n",
        "                                torch.from_numpy(y).type(torch.long))\n",
        "    else:\n",
        "        dataset = TensorDataset(torch.from_numpy(X).type(torch.float))\n",
        "    loader = DataLoader(dataset=dataset,\n",
        "                        batch_size=batch_size,\n",
        "                        shuffle=shuffle,\n",
        "                        pin_memory=True, num_workers=num_workers)\n",
        "    return loader"
      ]
    },
    {
      "cell_type": "markdown",
      "id": "e1baa5918f11a049",
      "metadata": {
        "collapsed": false,
        "id": "e1baa5918f11a049"
      },
      "source": [
        "TODO: define a model. Here, the basic structure is defined, but you need to fill in the details"
      ]
    },
    {
      "cell_type": "code",
      "execution_count": null,
      "id": "fcd11318eb7b9488",
      "metadata": {
        "id": "fcd11318eb7b9488"
      },
      "outputs": [],
      "source": [
        "class Net(nn.Module):\n",
        "    \"\"\"\n",
        "    The model class, which defines our classifier.\n",
        "    \"\"\"\n",
        "    def __init__(self):\n",
        "        \"\"\"\n",
        "        The constructor of the model.\n",
        "        \"\"\"\n",
        "        super().__init__()\n",
        "        self.fc = nn.Linear(3000, 1)\n",
        "\n",
        "    def forward(self, x):\n",
        "        \"\"\"\n",
        "        The forward pass of the model.\n",
        "\n",
        "        input: x: torch.Tensor, the input to the model\n",
        "\n",
        "        output: x: torch.Tensor, the output of the model\n",
        "        \"\"\"\n",
        "        x = self.fc(x)\n",
        "        x = F.relu(x)\n",
        "        return x"
      ]
    },
    {
      "cell_type": "code",
      "execution_count": null,
      "id": "6e1b0092e0b13f88",
      "metadata": {
        "id": "6e1b0092e0b13f88"
      },
      "outputs": [],
      "source": [
        "TRAIN_TRIPLETS = 'train_triplets.txt'\n",
        "\n",
        "# load the training data\n",
        "X, y = get_data(TRAIN_TRIPLETS)\n",
        "# Create data loaders for the training data\n",
        "train_loader = create_loader_from_np(X, y, train = True, batch_size=64)\n",
        "# delete the loaded training data to save memory, as the data loader copies\n",
        "del X\n",
        "del y"
      ]
    },
    {
      "cell_type": "code",
      "execution_count": null,
      "metadata": {
        "id": "c1suB9UG8oF9"
      },
      "outputs": [],
      "source": [
        "TEST_TRIPLETS = 'test_triplets.txt'\n",
        "\n",
        "# repeat for testing data\n",
        "X_test, y_test = get_data(TEST_TRIPLETS, train=False)\n",
        "test_loader = create_loader_from_np(X_test, train = False, batch_size=2048, shuffle=False)\n",
        "del X_test\n",
        "del y_test"
      ],
      "id": "c1suB9UG8oF9"
    },
    {
      "cell_type": "code",
      "execution_count": null,
      "id": "28634c90281cd699",
      "metadata": {
        "id": "28634c90281cd699"
      },
      "outputs": [],
      "source": [
        "\"\"\"\n",
        "The training procedure of the model; it accepts the training data, defines the model\n",
        "and then trains it.\n",
        "\n",
        "input: train_loader: torch.data.util.DataLoader, the object containing the training data\n",
        "\n",
        "compute: model: torch.nn.Module, the trained model\n",
        "\"\"\"\n",
        "model = Net()\n",
        "model.train()\n",
        "model.to(device)\n",
        "n_epochs = 10\n",
        "# TODO: define a loss function, optimizer and proceed with training. Hint: use the part\n",
        "# of the training data as a validation split. After each epoch, compute the loss on the\n",
        "# validation split and print it out. This enables you to see how your model is performing\n",
        "# on the validation data before submitting the results on the server. After choosing the\n",
        "# best model, train it on the whole training data.\n",
        "for epoch in range(n_epochs):\n",
        "    for [X, y] in train_loader:\n",
        "        pass"
      ]
    },
    {
      "cell_type": "code",
      "execution_count": null,
      "id": "b2ea99b26c348253",
      "metadata": {
        "id": "b2ea99b26c348253"
      },
      "outputs": [],
      "source": [
        "\"\"\"\n",
        "The testing procedure of the model; it accepts the testing data and the trained model and\n",
        "then tests the model on it.\n",
        "\n",
        "input: model: torch.nn.Module, the trained model\n",
        "       loader: torch.data.util.DataLoader, the object containing the testing data\n",
        "\n",
        "compute: None, the function saves the predictions to a results.txt file\n",
        "\"\"\"\n",
        "model.eval()\n",
        "predictions = []\n",
        "# Iterate over the test data\n",
        "with torch.no_grad(): # We don't need to compute gradients for testing\n",
        "    for [x_batch] in test_loader:\n",
        "        x_batch= x_batch.to(device)\n",
        "        predicted = model(x_batch)\n",
        "        predicted = predicted.cpu().numpy()\n",
        "        # Rounding the predictions to 0 or 1\n",
        "        predicted[predicted >= 0.5] = 1\n",
        "        predicted[predicted < 0.5] = 0\n",
        "        predictions.append(predicted)\n",
        "    predictions = np.vstack(predictions)\n",
        "np.savetxt(\"results.txt\", predictions, fmt='%i')\n",
        "print(\"Results saved to results.txt\")"
      ]
    }
  ],
  "metadata": {
    "kernelspec": {
      "display_name": "Python 3",
      "language": "python",
      "name": "python3"
    },
    "language_info": {
      "codemirror_mode": {
        "name": "ipython",
        "version": 2
      },
      "file_extension": ".py",
      "mimetype": "text/x-python",
      "name": "python",
      "nbconvert_exporter": "python",
      "pygments_lexer": "ipython2",
      "version": "2.7.6"
    },
    "colab": {
      "provenance": [],
      "include_colab_link": true
    }
  },
  "nbformat": 4,
  "nbformat_minor": 5
}